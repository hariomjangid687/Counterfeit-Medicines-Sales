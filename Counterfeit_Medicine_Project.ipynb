{
 "cells": [
  {
   "cell_type": "code",
   "execution_count": 1,
   "metadata": {},
   "outputs": [],
   "source": [
    "import pandas as pd\n",
    "import numpy as np\n",
    "from scipy import stats, integrate"
   ]
  },
  {
   "cell_type": "code",
   "execution_count": 2,
   "metadata": {},
   "outputs": [],
   "source": [
    "#read train and test data\n",
    "file1=r\"C:/Users/User/Documents/Project 3/counterfeit_train.csv\"\n",
    "file2=r\"C:/Users/User/Documents/Project 3/counterfeit_test.csv\"\n",
    "bd_train=pd.read_csv(file1)\n",
    "bd_test=pd.read_csv(file2)"
   ]
  },
  {
   "cell_type": "code",
   "execution_count": 3,
   "metadata": {},
   "outputs": [],
   "source": [
    "#we concat train and test data for data preprocessing\n",
    "bd_test['Counterfeit_Sales']=np.NaN\n",
    "bd_train['data']='train'\n",
    "bd_test['data']=\"test\"\n",
    "bd_test=bd_test[bd_train.columns]\n",
    "bd=pd.concat([bd_train,bd_test],axis=0)"
   ]
  },
  {
   "cell_type": "code",
   "execution_count": 4,
   "metadata": {},
   "outputs": [
    {
     "data": {
      "text/html": [
       "<div>\n",
       "<style scoped>\n",
       "    .dataframe tbody tr th:only-of-type {\n",
       "        vertical-align: middle;\n",
       "    }\n",
       "\n",
       "    .dataframe tbody tr th {\n",
       "        vertical-align: top;\n",
       "    }\n",
       "\n",
       "    .dataframe thead th {\n",
       "        text-align: right;\n",
       "    }\n",
       "</style>\n",
       "<table border=\"1\" class=\"dataframe\">\n",
       "  <thead>\n",
       "    <tr style=\"text-align: right;\">\n",
       "      <th></th>\n",
       "      <th>Medicine_ID</th>\n",
       "      <th>Counterfeit_Weight</th>\n",
       "      <th>DistArea_ID</th>\n",
       "      <th>Active_Since</th>\n",
       "      <th>Medicine_MRP</th>\n",
       "      <th>Medicine_Type</th>\n",
       "      <th>SidEffect_Level</th>\n",
       "      <th>Availability_rating</th>\n",
       "      <th>Area_Type</th>\n",
       "      <th>Area_City_Type</th>\n",
       "      <th>Area_dist_level</th>\n",
       "      <th>Counterfeit_Sales</th>\n",
       "      <th>data</th>\n",
       "    </tr>\n",
       "  </thead>\n",
       "  <tbody>\n",
       "    <tr>\n",
       "      <th>0</th>\n",
       "      <td>RRA15</td>\n",
       "      <td>13.100</td>\n",
       "      <td>Area046</td>\n",
       "      <td>1995</td>\n",
       "      <td>160.2366</td>\n",
       "      <td>Antimalarial</td>\n",
       "      <td>critical</td>\n",
       "      <td>0.070422</td>\n",
       "      <td>DownTown</td>\n",
       "      <td>Tier 1</td>\n",
       "      <td>Small</td>\n",
       "      <td>1775.5026</td>\n",
       "      <td>train</td>\n",
       "    </tr>\n",
       "    <tr>\n",
       "      <th>1</th>\n",
       "      <td>YVV26</td>\n",
       "      <td>NaN</td>\n",
       "      <td>Area027</td>\n",
       "      <td>1983</td>\n",
       "      <td>110.4384</td>\n",
       "      <td>Mstablizers</td>\n",
       "      <td>mild</td>\n",
       "      <td>0.013000</td>\n",
       "      <td>CityLimits</td>\n",
       "      <td>Tier 3</td>\n",
       "      <td>Medium</td>\n",
       "      <td>3069.1520</td>\n",
       "      <td>train</td>\n",
       "    </tr>\n",
       "    <tr>\n",
       "      <th>2</th>\n",
       "      <td>LJC15</td>\n",
       "      <td>9.025</td>\n",
       "      <td>Area046</td>\n",
       "      <td>1995</td>\n",
       "      <td>259.4092</td>\n",
       "      <td>Cardiac</td>\n",
       "      <td>mild</td>\n",
       "      <td>0.060783</td>\n",
       "      <td>DownTown</td>\n",
       "      <td>Tier 1</td>\n",
       "      <td>Small</td>\n",
       "      <td>2603.0920</td>\n",
       "      <td>train</td>\n",
       "    </tr>\n",
       "    <tr>\n",
       "      <th>3</th>\n",
       "      <td>GWC40</td>\n",
       "      <td>11.800</td>\n",
       "      <td>Area046</td>\n",
       "      <td>1995</td>\n",
       "      <td>99.9830</td>\n",
       "      <td>OralContraceptives</td>\n",
       "      <td>mild</td>\n",
       "      <td>0.065555</td>\n",
       "      <td>DownTown</td>\n",
       "      <td>Tier 1</td>\n",
       "      <td>Small</td>\n",
       "      <td>1101.7130</td>\n",
       "      <td>train</td>\n",
       "    </tr>\n",
       "    <tr>\n",
       "      <th>4</th>\n",
       "      <td>QMN13</td>\n",
       "      <td>NaN</td>\n",
       "      <td>Area019</td>\n",
       "      <td>1983</td>\n",
       "      <td>56.4402</td>\n",
       "      <td>Hreplacements</td>\n",
       "      <td>critical</td>\n",
       "      <td>0.248859</td>\n",
       "      <td>MidTownResidential</td>\n",
       "      <td>Tier 1</td>\n",
       "      <td>Small</td>\n",
       "      <td>158.9402</td>\n",
       "      <td>train</td>\n",
       "    </tr>\n",
       "  </tbody>\n",
       "</table>\n",
       "</div>"
      ],
      "text/plain": [
       "  Medicine_ID  Counterfeit_Weight DistArea_ID  Active_Since  Medicine_MRP  \\\n",
       "0       RRA15              13.100     Area046          1995      160.2366   \n",
       "1       YVV26                 NaN     Area027          1983      110.4384   \n",
       "2       LJC15               9.025     Area046          1995      259.4092   \n",
       "3       GWC40              11.800     Area046          1995       99.9830   \n",
       "4       QMN13                 NaN     Area019          1983       56.4402   \n",
       "\n",
       "        Medicine_Type SidEffect_Level  Availability_rating  \\\n",
       "0        Antimalarial        critical             0.070422   \n",
       "1         Mstablizers            mild             0.013000   \n",
       "2             Cardiac            mild             0.060783   \n",
       "3  OralContraceptives            mild             0.065555   \n",
       "4       Hreplacements        critical             0.248859   \n",
       "\n",
       "            Area_Type Area_City_Type Area_dist_level  Counterfeit_Sales   data  \n",
       "0            DownTown         Tier 1           Small          1775.5026  train  \n",
       "1          CityLimits         Tier 3          Medium          3069.1520  train  \n",
       "2            DownTown         Tier 1           Small          2603.0920  train  \n",
       "3            DownTown         Tier 1           Small          1101.7130  train  \n",
       "4  MidTownResidential         Tier 1           Small           158.9402  train  "
      ]
     },
     "execution_count": 4,
     "metadata": {},
     "output_type": "execute_result"
    }
   ],
   "source": [
    "bd.head()"
   ]
  },
  {
   "cell_type": "code",
   "execution_count": 5,
   "metadata": {},
   "outputs": [
    {
     "data": {
      "text/plain": [
       "(8523, 13)"
      ]
     },
     "execution_count": 5,
     "metadata": {},
     "output_type": "execute_result"
    }
   ],
   "source": [
    "bd.shape"
   ]
  },
  {
   "cell_type": "code",
   "execution_count": 17,
   "metadata": {},
   "outputs": [],
   "source": [
    "#Include ID columns in modeling process doesn't make sense,so we will remove all the ID columns\n",
    "bd=bd.drop(['Medicine_ID','DistArea_ID'],axis=1)"
   ]
  },
  {
   "cell_type": "code",
   "execution_count": 6,
   "metadata": {},
   "outputs": [
    {
     "data": {
      "text/plain": [
       "[('Medicine_ID', dtype('O'), 1557),\n",
       " ('Counterfeit_Weight', dtype('float64'), 415),\n",
       " ('DistArea_ID', dtype('O'), 10),\n",
       " ('Active_Since', dtype('int64'), 9),\n",
       " ('Medicine_MRP', dtype('float64'), 5970),\n",
       " ('Medicine_Type', dtype('O'), 16),\n",
       " ('SidEffect_Level', dtype('O'), 2),\n",
       " ('Availability_rating', dtype('float64'), 7884),\n",
       " ('Area_Type', dtype('O'), 4),\n",
       " ('Area_City_Type', dtype('O'), 3),\n",
       " ('Area_dist_level', dtype('O'), 4),\n",
       " ('Counterfeit_Sales', dtype('float64'), 3142),\n",
       " ('data', dtype('O'), 2)]"
      ]
     },
     "execution_count": 6,
     "metadata": {},
     "output_type": "execute_result"
    }
   ],
   "source": [
    "list(zip(bd.columns,bd.dtypes,bd.nunique()))"
   ]
  },
  {
   "cell_type": "code",
   "execution_count": 7,
   "metadata": {},
   "outputs": [
    {
     "data": {
      "text/plain": [
       "(nan, 1.0)"
      ]
     },
     "execution_count": 7,
     "metadata": {},
     "output_type": "execute_result"
    }
   ],
   "source": [
    "#stats.pearsonr(bd['Counterfeit_Weight'],bd['Counterfeit_Sales'])"
   ]
  },
  {
   "cell_type": "code",
   "execution_count": 8,
   "metadata": {},
   "outputs": [
    {
     "data": {
      "text/plain": [
       "Counterfeit_Weight\n",
       "5.855     2051.81\n",
       "5.890     1380.68\n",
       "5.910     2409.79\n",
       "5.915     4191.02\n",
       "5.935     2297.49\n",
       "6.085     1679.63\n",
       "6.105     3993.28\n",
       "6.180      787.12\n",
       "6.205     3069.15\n",
       "6.220     3535.54\n",
       "6.300     3718.31\n",
       "6.330     1476.23\n",
       "6.335     4040.89\n",
       "6.395     1833.93\n",
       "6.410     2820.81\n",
       "6.450     2094.42\n",
       "6.455     3580.49\n",
       "6.475     1247.68\n",
       "6.490     2686.98\n",
       "6.510     4515.94\n",
       "6.560     3658.78\n",
       "6.605     3604.46\n",
       "6.620     1895.68\n",
       "6.625      418.60\n",
       "6.640     1771.84\n",
       "6.665     2403.35\n",
       "6.700     2415.34\n",
       "6.705     2601.43\n",
       "6.725     1559.34\n",
       "6.740     2678.33\n",
       "           ...   \n",
       "19.800    1949.71\n",
       "19.900    1821.94\n",
       "20.000    1786.97\n",
       "20.050    2671.97\n",
       "20.150    2551.50\n",
       "20.300    1992.42\n",
       "20.400    2278.27\n",
       "20.500    2662.03\n",
       "20.550    1499.86\n",
       "20.650    1994.61\n",
       "20.800    2607.20\n",
       "20.900    1702.97\n",
       "21.000    2145.95\n",
       "21.050    2883.00\n",
       "21.150    2302.82\n",
       "21.300    1184.22\n",
       "21.400    2113.09\n",
       "21.500    2447.16\n",
       "21.550    3245.99\n",
       "21.650    2446.19\n",
       "21.800    1765.11\n",
       "21.900    1849.16\n",
       "22.000    1910.25\n",
       "22.050    2606.06\n",
       "22.150    1988.56\n",
       "22.300    1352.99\n",
       "22.400    2217.70\n",
       "22.500    2876.74\n",
       "22.550    2359.68\n",
       "22.650    2726.40\n",
       "Name: Counterfeit_Sales, Length: 415, dtype: float64"
      ]
     },
     "execution_count": 8,
     "metadata": {},
     "output_type": "execute_result"
    }
   ],
   "source": [
    "round(bd.groupby(\"Counterfeit_Weight\")['Counterfeit_Sales'].mean(),2)"
   ]
  },
  {
   "cell_type": "code",
   "execution_count": 9,
   "metadata": {},
   "outputs": [
    {
     "name": "stderr",
     "output_type": "stream",
     "text": [
      "C:\\Users\\User\\Anaconda3\\lib\\site-packages\\scipy\\stats\\stats.py:248: RuntimeWarning: The input array could not be properly checked for nan values. nan values will be ignored.\n",
      "  \"values. nan values will be ignored.\", RuntimeWarning)\n"
     ]
    },
    {
     "data": {
      "text/plain": [
       "SpearmanrResult(correlation=-0.020772926815508547, pvalue=0.0551510653809175)"
      ]
     },
     "execution_count": 9,
     "metadata": {},
     "output_type": "execute_result"
    }
   ],
   "source": [
    "#correlation between Area_city_type and Area_Type\n",
    "stats.spearmanr(bd['Area_City_Type'],bd['Area_Type'])"
   ]
  },
  {
   "cell_type": "code",
   "execution_count": 10,
   "metadata": {},
   "outputs": [
    {
     "data": {
      "text/plain": [
       "Medicine_Type\n",
       "Analgesics            2091.0\n",
       "Antacids              2260.0\n",
       "Antibiotics           2397.0\n",
       "Antifungal            2444.0\n",
       "Antimalarial          2193.0\n",
       "Antipyretics          2293.0\n",
       "Antiseptics           2367.0\n",
       "Antiviral             2583.0\n",
       "Cardiac               2363.0\n",
       "Hreplacements         2376.0\n",
       "Mstablizers           2045.0\n",
       "MuscleRelaxants       2091.0\n",
       "OralContraceptives    2245.0\n",
       "Statins               2309.0\n",
       "Stimulants            2280.0\n",
       "Tranquilizers         2084.0\n",
       "Name: Counterfeit_Sales, dtype: float64"
      ]
     },
     "execution_count": 10,
     "metadata": {},
     "output_type": "execute_result"
    }
   ],
   "source": [
    "round(bd.groupby(\"Medicine_Type\")['Counterfeit_Sales'].mean(),)"
   ]
  },
  {
   "cell_type": "code",
   "execution_count": 11,
   "metadata": {},
   "outputs": [
    {
     "data": {
      "text/plain": [
       "Antibiotics           1232\n",
       "Hreplacements         1200\n",
       "Antiseptics            910\n",
       "OralContraceptives     856\n",
       "Antipyretics           682\n",
       "Cardiac                649\n",
       "Mstablizers            648\n",
       "Tranquilizers          520\n",
       "Analgesics             445\n",
       "Antimalarial           425\n",
       "Antacids               251\n",
       "Statins                214\n",
       "MuscleRelaxants        169\n",
       "Antifungal             148\n",
       "Stimulants             110\n",
       "Antiviral               64\n",
       "Name: Medicine_Type, dtype: int64"
      ]
     },
     "execution_count": 11,
     "metadata": {},
     "output_type": "execute_result"
    }
   ],
   "source": [
    "bd['Medicine_Type'].value_counts()"
   ]
  },
  {
   "cell_type": "code",
   "execution_count": 12,
   "metadata": {},
   "outputs": [],
   "source": [
    "#Now we will make (n-1) dummy of Medicine Type column\n",
    "MDType_Dumy=pd.get_dummies(bd['Medicine_Type'],prefix=\"MdType\")\n",
    "bd=pd.concat([bd,MDType_Dumy],axis=1)\n",
    "bd.drop(['Medicine_Type','MdType_Antiviral'],axis=1,inplace=True)"
   ]
  },
  {
   "cell_type": "code",
   "execution_count": 13,
   "metadata": {},
   "outputs": [
    {
     "data": {
      "text/plain": [
       "mild        5517\n",
       "critical    3006\n",
       "Name: SidEffect_Level, dtype: int64"
      ]
     },
     "execution_count": 13,
     "metadata": {},
     "output_type": "execute_result"
    }
   ],
   "source": [
    "bd['SidEffect_Level'].value_counts()"
   ]
  },
  {
   "cell_type": "code",
   "execution_count": 14,
   "metadata": {},
   "outputs": [],
   "source": [
    "#Now we will convert mild into  1 and 0's \n",
    "bd['SidEffect_Level']=np.where(bd['SidEffect_Level']=='mild',1,0)"
   ]
  },
  {
   "cell_type": "code",
   "execution_count": 15,
   "metadata": {},
   "outputs": [
    {
     "data": {
      "text/plain": [
       "1    5517\n",
       "0    3006\n",
       "Name: SidEffect_Level, dtype: int64"
      ]
     },
     "execution_count": 15,
     "metadata": {},
     "output_type": "execute_result"
    }
   ],
   "source": [
    "bd['SidEffect_Level'].value_counts()"
   ]
  },
  {
   "cell_type": "code",
   "execution_count": 18,
   "metadata": {},
   "outputs": [
    {
     "data": {
      "text/html": [
       "<div>\n",
       "<style scoped>\n",
       "    .dataframe tbody tr th:only-of-type {\n",
       "        vertical-align: middle;\n",
       "    }\n",
       "\n",
       "    .dataframe tbody tr th {\n",
       "        vertical-align: top;\n",
       "    }\n",
       "\n",
       "    .dataframe thead th {\n",
       "        text-align: right;\n",
       "    }\n",
       "</style>\n",
       "<table border=\"1\" class=\"dataframe\">\n",
       "  <thead>\n",
       "    <tr style=\"text-align: right;\">\n",
       "      <th></th>\n",
       "      <th>Counterfeit_Weight</th>\n",
       "      <th>Active_Since</th>\n",
       "      <th>Medicine_MRP</th>\n",
       "      <th>SidEffect_Level</th>\n",
       "      <th>Availability_rating</th>\n",
       "      <th>Area_Type</th>\n",
       "      <th>Area_City_Type</th>\n",
       "      <th>Area_dist_level</th>\n",
       "      <th>Counterfeit_Sales</th>\n",
       "      <th>data</th>\n",
       "      <th>...</th>\n",
       "      <th>MdType_Antipyretics</th>\n",
       "      <th>MdType_Antiseptics</th>\n",
       "      <th>MdType_Cardiac</th>\n",
       "      <th>MdType_Hreplacements</th>\n",
       "      <th>MdType_Mstablizers</th>\n",
       "      <th>MdType_MuscleRelaxants</th>\n",
       "      <th>MdType_OralContraceptives</th>\n",
       "      <th>MdType_Statins</th>\n",
       "      <th>MdType_Stimulants</th>\n",
       "      <th>MdType_Tranquilizers</th>\n",
       "    </tr>\n",
       "  </thead>\n",
       "  <tbody>\n",
       "    <tr>\n",
       "      <th>0</th>\n",
       "      <td>13.100</td>\n",
       "      <td>1995</td>\n",
       "      <td>160.2366</td>\n",
       "      <td>0</td>\n",
       "      <td>0.070422</td>\n",
       "      <td>DownTown</td>\n",
       "      <td>Tier 1</td>\n",
       "      <td>Small</td>\n",
       "      <td>1775.5026</td>\n",
       "      <td>train</td>\n",
       "      <td>...</td>\n",
       "      <td>0</td>\n",
       "      <td>0</td>\n",
       "      <td>0</td>\n",
       "      <td>0</td>\n",
       "      <td>0</td>\n",
       "      <td>0</td>\n",
       "      <td>0</td>\n",
       "      <td>0</td>\n",
       "      <td>0</td>\n",
       "      <td>0</td>\n",
       "    </tr>\n",
       "    <tr>\n",
       "      <th>1</th>\n",
       "      <td>NaN</td>\n",
       "      <td>1983</td>\n",
       "      <td>110.4384</td>\n",
       "      <td>1</td>\n",
       "      <td>0.013000</td>\n",
       "      <td>CityLimits</td>\n",
       "      <td>Tier 3</td>\n",
       "      <td>Medium</td>\n",
       "      <td>3069.1520</td>\n",
       "      <td>train</td>\n",
       "      <td>...</td>\n",
       "      <td>0</td>\n",
       "      <td>0</td>\n",
       "      <td>0</td>\n",
       "      <td>0</td>\n",
       "      <td>1</td>\n",
       "      <td>0</td>\n",
       "      <td>0</td>\n",
       "      <td>0</td>\n",
       "      <td>0</td>\n",
       "      <td>0</td>\n",
       "    </tr>\n",
       "    <tr>\n",
       "      <th>2</th>\n",
       "      <td>9.025</td>\n",
       "      <td>1995</td>\n",
       "      <td>259.4092</td>\n",
       "      <td>1</td>\n",
       "      <td>0.060783</td>\n",
       "      <td>DownTown</td>\n",
       "      <td>Tier 1</td>\n",
       "      <td>Small</td>\n",
       "      <td>2603.0920</td>\n",
       "      <td>train</td>\n",
       "      <td>...</td>\n",
       "      <td>0</td>\n",
       "      <td>0</td>\n",
       "      <td>1</td>\n",
       "      <td>0</td>\n",
       "      <td>0</td>\n",
       "      <td>0</td>\n",
       "      <td>0</td>\n",
       "      <td>0</td>\n",
       "      <td>0</td>\n",
       "      <td>0</td>\n",
       "    </tr>\n",
       "    <tr>\n",
       "      <th>3</th>\n",
       "      <td>11.800</td>\n",
       "      <td>1995</td>\n",
       "      <td>99.9830</td>\n",
       "      <td>1</td>\n",
       "      <td>0.065555</td>\n",
       "      <td>DownTown</td>\n",
       "      <td>Tier 1</td>\n",
       "      <td>Small</td>\n",
       "      <td>1101.7130</td>\n",
       "      <td>train</td>\n",
       "      <td>...</td>\n",
       "      <td>0</td>\n",
       "      <td>0</td>\n",
       "      <td>0</td>\n",
       "      <td>0</td>\n",
       "      <td>0</td>\n",
       "      <td>0</td>\n",
       "      <td>1</td>\n",
       "      <td>0</td>\n",
       "      <td>0</td>\n",
       "      <td>0</td>\n",
       "    </tr>\n",
       "    <tr>\n",
       "      <th>4</th>\n",
       "      <td>NaN</td>\n",
       "      <td>1983</td>\n",
       "      <td>56.4402</td>\n",
       "      <td>0</td>\n",
       "      <td>0.248859</td>\n",
       "      <td>MidTownResidential</td>\n",
       "      <td>Tier 1</td>\n",
       "      <td>Small</td>\n",
       "      <td>158.9402</td>\n",
       "      <td>train</td>\n",
       "      <td>...</td>\n",
       "      <td>0</td>\n",
       "      <td>0</td>\n",
       "      <td>0</td>\n",
       "      <td>1</td>\n",
       "      <td>0</td>\n",
       "      <td>0</td>\n",
       "      <td>0</td>\n",
       "      <td>0</td>\n",
       "      <td>0</td>\n",
       "      <td>0</td>\n",
       "    </tr>\n",
       "  </tbody>\n",
       "</table>\n",
       "<p>5 rows × 25 columns</p>\n",
       "</div>"
      ],
      "text/plain": [
       "   Counterfeit_Weight  Active_Since  Medicine_MRP  SidEffect_Level  \\\n",
       "0              13.100          1995      160.2366                0   \n",
       "1                 NaN          1983      110.4384                1   \n",
       "2               9.025          1995      259.4092                1   \n",
       "3              11.800          1995       99.9830                1   \n",
       "4                 NaN          1983       56.4402                0   \n",
       "\n",
       "   Availability_rating           Area_Type Area_City_Type Area_dist_level  \\\n",
       "0             0.070422            DownTown         Tier 1           Small   \n",
       "1             0.013000          CityLimits         Tier 3          Medium   \n",
       "2             0.060783            DownTown         Tier 1           Small   \n",
       "3             0.065555            DownTown         Tier 1           Small   \n",
       "4             0.248859  MidTownResidential         Tier 1           Small   \n",
       "\n",
       "   Counterfeit_Sales   data  ...  MdType_Antipyretics  MdType_Antiseptics  \\\n",
       "0          1775.5026  train  ...                    0                   0   \n",
       "1          3069.1520  train  ...                    0                   0   \n",
       "2          2603.0920  train  ...                    0                   0   \n",
       "3          1101.7130  train  ...                    0                   0   \n",
       "4           158.9402  train  ...                    0                   0   \n",
       "\n",
       "   MdType_Cardiac  MdType_Hreplacements  MdType_Mstablizers  \\\n",
       "0               0                     0                   0   \n",
       "1               0                     0                   1   \n",
       "2               1                     0                   0   \n",
       "3               0                     0                   0   \n",
       "4               0                     1                   0   \n",
       "\n",
       "   MdType_MuscleRelaxants  MdType_OralContraceptives  MdType_Statins  \\\n",
       "0                       0                          0               0   \n",
       "1                       0                          0               0   \n",
       "2                       0                          0               0   \n",
       "3                       0                          1               0   \n",
       "4                       0                          0               0   \n",
       "\n",
       "   MdType_Stimulants  MdType_Tranquilizers  \n",
       "0                  0                     0  \n",
       "1                  0                     0  \n",
       "2                  0                     0  \n",
       "3                  0                     0  \n",
       "4                  0                     0  \n",
       "\n",
       "[5 rows x 25 columns]"
      ]
     },
     "execution_count": 18,
     "metadata": {},
     "output_type": "execute_result"
    }
   ],
   "source": [
    "bd.head()"
   ]
  },
  {
   "cell_type": "code",
   "execution_count": 19,
   "metadata": {},
   "outputs": [
    {
     "data": {
      "text/plain": [
       "7884"
      ]
     },
     "execution_count": 19,
     "metadata": {},
     "output_type": "execute_result"
    }
   ],
   "source": [
    "bd['Availability_rating'].nunique()\n",
    "#There are too many unique values in Availability_rating column so we leave this column as it is"
   ]
  },
  {
   "cell_type": "code",
   "execution_count": 20,
   "metadata": {},
   "outputs": [],
   "source": [
    "%matplotlib inline"
   ]
  },
  {
   "cell_type": "code",
   "execution_count": 21,
   "metadata": {},
   "outputs": [
    {
     "data": {
      "text/plain": [
       "<matplotlib.axes._subplots.AxesSubplot at 0x27a27641438>"
      ]
     },
     "execution_count": 21,
     "metadata": {},
     "output_type": "execute_result"
    },
    {
     "data": {
      "image/png": "[encoded data removed]",
      "text/plain": [
       "<Figure size 432x288 with 1 Axes>"
      ]
     },
     "metadata": {
      "needs_background": "light"
     },
     "output_type": "display_data"
    }
   ],
   "source": [
    "bd.plot('Area_Type','Counterfeit_Sales')"
   ]
  },
  {
   "cell_type": "code",
   "execution_count": 22,
   "metadata": {},
   "outputs": [
    {
     "data": {
      "text/plain": [
       "DownTown              5577\n",
       "MidTownResidential    1083\n",
       "CityLimits             935\n",
       "Industrial             928\n",
       "Name: Area_Type, dtype: int64"
      ]
     },
     "execution_count": 22,
     "metadata": {},
     "output_type": "execute_result"
    }
   ],
   "source": [
    "bd['Area_Type'].value_counts()"
   ]
  },
  {
   "cell_type": "code",
   "execution_count": 23,
   "metadata": {},
   "outputs": [],
   "source": [
    "#3 dummies of area type column\n",
    "bd['ArType_Dwntwn'] = np.where(bd['Area_Type']=='DownTown',1,0)\n",
    "bd['ArType_MidtwnResid']=np.where(bd['Area_Type']=='MildTownResidential',1,0)\n",
    "bd['ArType_CityLimits']=np.where(bd['Area_Type']=='CityLimits',1,0)\n",
    "bd.drop(['Area_Type'],axis=1,inplace=True)"
   ]
  },
  {
   "cell_type": "code",
   "execution_count": 24,
   "metadata": {},
   "outputs": [
    {
     "data": {
      "text/html": [
       "<div>\n",
       "<style scoped>\n",
       "    .dataframe tbody tr th:only-of-type {\n",
       "        vertical-align: middle;\n",
       "    }\n",
       "\n",
       "    .dataframe tbody tr th {\n",
       "        vertical-align: top;\n",
       "    }\n",
       "\n",
       "    .dataframe thead th {\n",
       "        text-align: right;\n",
       "    }\n",
       "</style>\n",
       "<table border=\"1\" class=\"dataframe\">\n",
       "  <thead>\n",
       "    <tr style=\"text-align: right;\">\n",
       "      <th></th>\n",
       "      <th>Counterfeit_Weight</th>\n",
       "      <th>Active_Since</th>\n",
       "      <th>Medicine_MRP</th>\n",
       "      <th>SidEffect_Level</th>\n",
       "      <th>Availability_rating</th>\n",
       "      <th>Area_City_Type</th>\n",
       "      <th>Area_dist_level</th>\n",
       "      <th>Counterfeit_Sales</th>\n",
       "      <th>data</th>\n",
       "      <th>MdType_Analgesics</th>\n",
       "      <th>...</th>\n",
       "      <th>MdType_Hreplacements</th>\n",
       "      <th>MdType_Mstablizers</th>\n",
       "      <th>MdType_MuscleRelaxants</th>\n",
       "      <th>MdType_OralContraceptives</th>\n",
       "      <th>MdType_Statins</th>\n",
       "      <th>MdType_Stimulants</th>\n",
       "      <th>MdType_Tranquilizers</th>\n",
       "      <th>ArType_Dwntwn</th>\n",
       "      <th>ArType_MidtwnResid</th>\n",
       "      <th>ArType_CityLimits</th>\n",
       "    </tr>\n",
       "  </thead>\n",
       "  <tbody>\n",
       "    <tr>\n",
       "      <th>0</th>\n",
       "      <td>13.100</td>\n",
       "      <td>1995</td>\n",
       "      <td>160.2366</td>\n",
       "      <td>0</td>\n",
       "      <td>0.070422</td>\n",
       "      <td>Tier 1</td>\n",
       "      <td>Small</td>\n",
       "      <td>1775.5026</td>\n",
       "      <td>train</td>\n",
       "      <td>0</td>\n",
       "      <td>...</td>\n",
       "      <td>0</td>\n",
       "      <td>0</td>\n",
       "      <td>0</td>\n",
       "      <td>0</td>\n",
       "      <td>0</td>\n",
       "      <td>0</td>\n",
       "      <td>0</td>\n",
       "      <td>1</td>\n",
       "      <td>0</td>\n",
       "      <td>0</td>\n",
       "    </tr>\n",
       "    <tr>\n",
       "      <th>1</th>\n",
       "      <td>NaN</td>\n",
       "      <td>1983</td>\n",
       "      <td>110.4384</td>\n",
       "      <td>1</td>\n",
       "      <td>0.013000</td>\n",
       "      <td>Tier 3</td>\n",
       "      <td>Medium</td>\n",
       "      <td>3069.1520</td>\n",
       "      <td>train</td>\n",
       "      <td>0</td>\n",
       "      <td>...</td>\n",
       "      <td>0</td>\n",
       "      <td>1</td>\n",
       "      <td>0</td>\n",
       "      <td>0</td>\n",
       "      <td>0</td>\n",
       "      <td>0</td>\n",
       "      <td>0</td>\n",
       "      <td>0</td>\n",
       "      <td>0</td>\n",
       "      <td>1</td>\n",
       "    </tr>\n",
       "    <tr>\n",
       "      <th>2</th>\n",
       "      <td>9.025</td>\n",
       "      <td>1995</td>\n",
       "      <td>259.4092</td>\n",
       "      <td>1</td>\n",
       "      <td>0.060783</td>\n",
       "      <td>Tier 1</td>\n",
       "      <td>Small</td>\n",
       "      <td>2603.0920</td>\n",
       "      <td>train</td>\n",
       "      <td>0</td>\n",
       "      <td>...</td>\n",
       "      <td>0</td>\n",
       "      <td>0</td>\n",
       "      <td>0</td>\n",
       "      <td>0</td>\n",
       "      <td>0</td>\n",
       "      <td>0</td>\n",
       "      <td>0</td>\n",
       "      <td>1</td>\n",
       "      <td>0</td>\n",
       "      <td>0</td>\n",
       "    </tr>\n",
       "    <tr>\n",
       "      <th>3</th>\n",
       "      <td>11.800</td>\n",
       "      <td>1995</td>\n",
       "      <td>99.9830</td>\n",
       "      <td>1</td>\n",
       "      <td>0.065555</td>\n",
       "      <td>Tier 1</td>\n",
       "      <td>Small</td>\n",
       "      <td>1101.7130</td>\n",
       "      <td>train</td>\n",
       "      <td>0</td>\n",
       "      <td>...</td>\n",
       "      <td>0</td>\n",
       "      <td>0</td>\n",
       "      <td>0</td>\n",
       "      <td>1</td>\n",
       "      <td>0</td>\n",
       "      <td>0</td>\n",
       "      <td>0</td>\n",
       "      <td>1</td>\n",
       "      <td>0</td>\n",
       "      <td>0</td>\n",
       "    </tr>\n",
       "    <tr>\n",
       "      <th>4</th>\n",
       "      <td>NaN</td>\n",
       "      <td>1983</td>\n",
       "      <td>56.4402</td>\n",
       "      <td>0</td>\n",
       "      <td>0.248859</td>\n",
       "      <td>Tier 1</td>\n",
       "      <td>Small</td>\n",
       "      <td>158.9402</td>\n",
       "      <td>train</td>\n",
       "      <td>0</td>\n",
       "      <td>...</td>\n",
       "      <td>1</td>\n",
       "      <td>0</td>\n",
       "      <td>0</td>\n",
       "      <td>0</td>\n",
       "      <td>0</td>\n",
       "      <td>0</td>\n",
       "      <td>0</td>\n",
       "      <td>0</td>\n",
       "      <td>0</td>\n",
       "      <td>0</td>\n",
       "    </tr>\n",
       "  </tbody>\n",
       "</table>\n",
       "<p>5 rows × 27 columns</p>\n",
       "</div>"
      ],
      "text/plain": [
       "   Counterfeit_Weight  Active_Since  Medicine_MRP  SidEffect_Level  \\\n",
       "0              13.100          1995      160.2366                0   \n",
       "1                 NaN          1983      110.4384                1   \n",
       "2               9.025          1995      259.4092                1   \n",
       "3              11.800          1995       99.9830                1   \n",
       "4                 NaN          1983       56.4402                0   \n",
       "\n",
       "   Availability_rating Area_City_Type Area_dist_level  Counterfeit_Sales  \\\n",
       "0             0.070422         Tier 1           Small          1775.5026   \n",
       "1             0.013000         Tier 3          Medium          3069.1520   \n",
       "2             0.060783         Tier 1           Small          2603.0920   \n",
       "3             0.065555         Tier 1           Small          1101.7130   \n",
       "4             0.248859         Tier 1           Small           158.9402   \n",
       "\n",
       "    data  MdType_Analgesics  ...  MdType_Hreplacements  MdType_Mstablizers  \\\n",
       "0  train                  0  ...                     0                   0   \n",
       "1  train                  0  ...                     0                   1   \n",
       "2  train                  0  ...                     0                   0   \n",
       "3  train                  0  ...                     0                   0   \n",
       "4  train                  0  ...                     1                   0   \n",
       "\n",
       "   MdType_MuscleRelaxants  MdType_OralContraceptives  MdType_Statins  \\\n",
       "0                       0                          0               0   \n",
       "1                       0                          0               0   \n",
       "2                       0                          0               0   \n",
       "3                       0                          1               0   \n",
       "4                       0                          0               0   \n",
       "\n",
       "   MdType_Stimulants  MdType_Tranquilizers  ArType_Dwntwn  ArType_MidtwnResid  \\\n",
       "0                  0                     0              1                   0   \n",
       "1                  0                     0              0                   0   \n",
       "2                  0                     0              1                   0   \n",
       "3                  0                     0              1                   0   \n",
       "4                  0                     0              0                   0   \n",
       "\n",
       "   ArType_CityLimits  \n",
       "0                  0  \n",
       "1                  1  \n",
       "2                  0  \n",
       "3                  0  \n",
       "4                  0  \n",
       "\n",
       "[5 rows x 27 columns]"
      ]
     },
     "execution_count": 24,
     "metadata": {},
     "output_type": "execute_result"
    }
   ],
   "source": [
    "bd.head()"
   ]
  },
  {
   "cell_type": "code",
   "execution_count": 25,
   "metadata": {},
   "outputs": [
    {
     "data": {
      "text/plain": [
       "Tier 3    3350\n",
       "Tier 2    2785\n",
       "Tier 1    2388\n",
       "Name: Area_City_Type, dtype: int64"
      ]
     },
     "execution_count": 25,
     "metadata": {},
     "output_type": "execute_result"
    }
   ],
   "source": [
    "bd['Area_City_Type'].value_counts()"
   ]
  },
  {
   "cell_type": "code",
   "execution_count": 27,
   "metadata": {},
   "outputs": [],
   "source": [
    "round(bd.groupby(\"Area_City_Type\")['Counterfeit_Sales'].mean(),2)"
   ]
  },
  {
   "cell_type": "code",
   "execution_count": 28,
   "metadata": {},
   "outputs": [],
   "source": [
    "#area city type column dummies\n",
    "bd['AreaCity_Tier3']=np.where(bd['Area_City_Type']=='Tier 3',1,0)\n",
    "bd['AreaCity_Tier2']=np.where(bd['Area_City_Type']=='Tier 2',1,0)\n",
    "bd.drop(['Area_City_Type'],axis=1,inplace=True)"
   ]
  },
  {
   "cell_type": "code",
   "execution_count": 29,
   "metadata": {},
   "outputs": [
    {
     "data": {
      "text/plain": [
       "Medium     2793\n",
       "Unknown    2410\n",
       "Small      2388\n",
       "High        932\n",
       "Name: Area_dist_level, dtype: int64"
      ]
     },
     "execution_count": 29,
     "metadata": {},
     "output_type": "execute_result"
    }
   ],
   "source": [
    "bd['Area_dist_level'].value_counts()"
   ]
  },
  {
   "cell_type": "code",
   "execution_count": 30,
   "metadata": {},
   "outputs": [
    {
     "data": {
      "text/plain": [
       "Area_dist_level\n",
       "High       2407.02\n",
       "Medium     2775.05\n",
       "Small      1998.41\n",
       "Unknown    1950.35\n",
       "Name: Counterfeit_Sales, dtype: float64"
      ]
     },
     "execution_count": 30,
     "metadata": {},
     "output_type": "execute_result"
    }
   ],
   "source": [
    "round(bd.groupby('Area_dist_level')['Counterfeit_Sales'].mean(),2)"
   ]
  },
  {
   "cell_type": "code",
   "execution_count": 31,
   "metadata": {},
   "outputs": [],
   "source": [
    "#(n-1) dummies of Area_dist_level column\n",
    "ArDistLevel_dum=pd.get_dummies(bd['Area_dist_level'],prefix=\"AreaDistLevel\")\n",
    "bd=pd.concat([bd,ArDistLevel_dum],1)\n",
    "bd.drop(['Area_dist_level','AreaDistLevel_High'],1,inplace=True)"
   ]
  },
  {
   "cell_type": "code",
   "execution_count": 32,
   "metadata": {},
   "outputs": [
    {
     "data": {
      "text/html": [
       "<div>\n",
       "<style scoped>\n",
       "    .dataframe tbody tr th:only-of-type {\n",
       "        vertical-align: middle;\n",
       "    }\n",
       "\n",
       "    .dataframe tbody tr th {\n",
       "        vertical-align: top;\n",
       "    }\n",
       "\n",
       "    .dataframe thead th {\n",
       "        text-align: right;\n",
       "    }\n",
       "</style>\n",
       "<table border=\"1\" class=\"dataframe\">\n",
       "  <thead>\n",
       "    <tr style=\"text-align: right;\">\n",
       "      <th></th>\n",
       "      <th>Counterfeit_Weight</th>\n",
       "      <th>Active_Since</th>\n",
       "      <th>Medicine_MRP</th>\n",
       "      <th>SidEffect_Level</th>\n",
       "      <th>Availability_rating</th>\n",
       "      <th>Counterfeit_Sales</th>\n",
       "      <th>data</th>\n",
       "      <th>MdType_Analgesics</th>\n",
       "      <th>MdType_Antacids</th>\n",
       "      <th>MdType_Antibiotics</th>\n",
       "      <th>...</th>\n",
       "      <th>MdType_Stimulants</th>\n",
       "      <th>MdType_Tranquilizers</th>\n",
       "      <th>ArType_Dwntwn</th>\n",
       "      <th>ArType_MidtwnResid</th>\n",
       "      <th>ArType_CityLimits</th>\n",
       "      <th>AreaCity_Tier3</th>\n",
       "      <th>AreaCity_Tier2</th>\n",
       "      <th>AreaDistLevel_Medium</th>\n",
       "      <th>AreaDistLevel_Small</th>\n",
       "      <th>AreaDistLevel_Unknown</th>\n",
       "    </tr>\n",
       "  </thead>\n",
       "  <tbody>\n",
       "    <tr>\n",
       "      <th>0</th>\n",
       "      <td>13.100</td>\n",
       "      <td>1995</td>\n",
       "      <td>160.2366</td>\n",
       "      <td>0</td>\n",
       "      <td>0.070422</td>\n",
       "      <td>1775.5026</td>\n",
       "      <td>train</td>\n",
       "      <td>0</td>\n",
       "      <td>0</td>\n",
       "      <td>0</td>\n",
       "      <td>...</td>\n",
       "      <td>0</td>\n",
       "      <td>0</td>\n",
       "      <td>1</td>\n",
       "      <td>0</td>\n",
       "      <td>0</td>\n",
       "      <td>0</td>\n",
       "      <td>0</td>\n",
       "      <td>0</td>\n",
       "      <td>1</td>\n",
       "      <td>0</td>\n",
       "    </tr>\n",
       "    <tr>\n",
       "      <th>1</th>\n",
       "      <td>NaN</td>\n",
       "      <td>1983</td>\n",
       "      <td>110.4384</td>\n",
       "      <td>1</td>\n",
       "      <td>0.013000</td>\n",
       "      <td>3069.1520</td>\n",
       "      <td>train</td>\n",
       "      <td>0</td>\n",
       "      <td>0</td>\n",
       "      <td>0</td>\n",
       "      <td>...</td>\n",
       "      <td>0</td>\n",
       "      <td>0</td>\n",
       "      <td>0</td>\n",
       "      <td>0</td>\n",
       "      <td>1</td>\n",
       "      <td>1</td>\n",
       "      <td>0</td>\n",
       "      <td>1</td>\n",
       "      <td>0</td>\n",
       "      <td>0</td>\n",
       "    </tr>\n",
       "    <tr>\n",
       "      <th>2</th>\n",
       "      <td>9.025</td>\n",
       "      <td>1995</td>\n",
       "      <td>259.4092</td>\n",
       "      <td>1</td>\n",
       "      <td>0.060783</td>\n",
       "      <td>2603.0920</td>\n",
       "      <td>train</td>\n",
       "      <td>0</td>\n",
       "      <td>0</td>\n",
       "      <td>0</td>\n",
       "      <td>...</td>\n",
       "      <td>0</td>\n",
       "      <td>0</td>\n",
       "      <td>1</td>\n",
       "      <td>0</td>\n",
       "      <td>0</td>\n",
       "      <td>0</td>\n",
       "      <td>0</td>\n",
       "      <td>0</td>\n",
       "      <td>1</td>\n",
       "      <td>0</td>\n",
       "    </tr>\n",
       "    <tr>\n",
       "      <th>3</th>\n",
       "      <td>11.800</td>\n",
       "      <td>1995</td>\n",
       "      <td>99.9830</td>\n",
       "      <td>1</td>\n",
       "      <td>0.065555</td>\n",
       "      <td>1101.7130</td>\n",
       "      <td>train</td>\n",
       "      <td>0</td>\n",
       "      <td>0</td>\n",
       "      <td>0</td>\n",
       "      <td>...</td>\n",
       "      <td>0</td>\n",
       "      <td>0</td>\n",
       "      <td>1</td>\n",
       "      <td>0</td>\n",
       "      <td>0</td>\n",
       "      <td>0</td>\n",
       "      <td>0</td>\n",
       "      <td>0</td>\n",
       "      <td>1</td>\n",
       "      <td>0</td>\n",
       "    </tr>\n",
       "    <tr>\n",
       "      <th>4</th>\n",
       "      <td>NaN</td>\n",
       "      <td>1983</td>\n",
       "      <td>56.4402</td>\n",
       "      <td>0</td>\n",
       "      <td>0.248859</td>\n",
       "      <td>158.9402</td>\n",
       "      <td>train</td>\n",
       "      <td>0</td>\n",
       "      <td>0</td>\n",
       "      <td>0</td>\n",
       "      <td>...</td>\n",
       "      <td>0</td>\n",
       "      <td>0</td>\n",
       "      <td>0</td>\n",
       "      <td>0</td>\n",
       "      <td>0</td>\n",
       "      <td>0</td>\n",
       "      <td>0</td>\n",
       "      <td>0</td>\n",
       "      <td>1</td>\n",
       "      <td>0</td>\n",
       "    </tr>\n",
       "  </tbody>\n",
       "</table>\n",
       "<p>5 rows × 30 columns</p>\n",
       "</div>"
      ],
      "text/plain": [
       "   Counterfeit_Weight  Active_Since  Medicine_MRP  SidEffect_Level  \\\n",
       "0              13.100          1995      160.2366                0   \n",
       "1                 NaN          1983      110.4384                1   \n",
       "2               9.025          1995      259.4092                1   \n",
       "3              11.800          1995       99.9830                1   \n",
       "4                 NaN          1983       56.4402                0   \n",
       "\n",
       "   Availability_rating  Counterfeit_Sales   data  MdType_Analgesics  \\\n",
       "0             0.070422          1775.5026  train                  0   \n",
       "1             0.013000          3069.1520  train                  0   \n",
       "2             0.060783          2603.0920  train                  0   \n",
       "3             0.065555          1101.7130  train                  0   \n",
       "4             0.248859           158.9402  train                  0   \n",
       "\n",
       "   MdType_Antacids  MdType_Antibiotics  ...  MdType_Stimulants  \\\n",
       "0                0                   0  ...                  0   \n",
       "1                0                   0  ...                  0   \n",
       "2                0                   0  ...                  0   \n",
       "3                0                   0  ...                  0   \n",
       "4                0                   0  ...                  0   \n",
       "\n",
       "   MdType_Tranquilizers  ArType_Dwntwn  ArType_MidtwnResid  ArType_CityLimits  \\\n",
       "0                     0              1                   0                  0   \n",
       "1                     0              0                   0                  1   \n",
       "2                     0              1                   0                  0   \n",
       "3                     0              1                   0                  0   \n",
       "4                     0              0                   0                  0   \n",
       "\n",
       "   AreaCity_Tier3  AreaCity_Tier2  AreaDistLevel_Medium  AreaDistLevel_Small  \\\n",
       "0               0               0                     0                    1   \n",
       "1               1               0                     1                    0   \n",
       "2               0               0                     0                    1   \n",
       "3               0               0                     0                    1   \n",
       "4               0               0                     0                    1   \n",
       "\n",
       "   AreaDistLevel_Unknown  \n",
       "0                      0  \n",
       "1                      0  \n",
       "2                      0  \n",
       "3                      0  \n",
       "4                      0  \n",
       "\n",
       "[5 rows x 30 columns]"
      ]
     },
     "execution_count": 32,
     "metadata": {},
     "output_type": "execute_result"
    }
   ],
   "source": [
    "bd.head()"
   ]
  },
  {
   "cell_type": "code",
   "execution_count": 33,
   "metadata": {},
   "outputs": [
    {
     "data": {
      "text/plain": [
       "Counterfeit_Weight           1463\n",
       "Active_Since                    0\n",
       "Medicine_MRP                    0\n",
       "SidEffect_Level                 0\n",
       "Availability_rating             0\n",
       "Counterfeit_Sales            1705\n",
       "data                            0\n",
       "MdType_Analgesics               0\n",
       "MdType_Antacids                 0\n",
       "MdType_Antibiotics              0\n",
       "MdType_Antifungal               0\n",
       "MdType_Antimalarial             0\n",
       "MdType_Antipyretics             0\n",
       "MdType_Antiseptics              0\n",
       "MdType_Cardiac                  0\n",
       "MdType_Hreplacements            0\n",
       "MdType_Mstablizers              0\n",
       "MdType_MuscleRelaxants          0\n",
       "MdType_OralContraceptives       0\n",
       "MdType_Statins                  0\n",
       "MdType_Stimulants               0\n",
       "MdType_Tranquilizers            0\n",
       "ArType_Dwntwn                   0\n",
       "ArType_MidtwnResid              0\n",
       "ArType_CityLimits               0\n",
       "AreaCity_Tier3                  0\n",
       "AreaCity_Tier2                  0\n",
       "AreaDistLevel_Medium            0\n",
       "AreaDistLevel_Small             0\n",
       "AreaDistLevel_Unknown           0\n",
       "dtype: int64"
      ]
     },
     "execution_count": 33,
     "metadata": {},
     "output_type": "execute_result"
    }
   ],
   "source": [
    "#check for Null values  \n",
    "bd.isnull().sum()"
   ]
  },
  {
   "cell_type": "code",
   "execution_count": 34,
   "metadata": {},
   "outputs": [],
   "source": [
    "#removing Null values from training data\n",
    "#we only impute null values in train data,not on test data\n",
    "for col in bd.columns:\n",
    "    if (col not in ['Counterfeit_Sales','data']) and (bd[col].isnull().sum()>0):\n",
    "        bd.loc[bd[col].isnull(),col]=bd.loc[bd['data']=='train',col].mean()"
   ]
  },
  {
   "cell_type": "code",
   "execution_count": null,
   "metadata": {},
   "outputs": [],
   "source": [
    "bd['Counterfeit_Weight'].isnull().sum()"
   ]
  },
  {
   "cell_type": "code",
   "execution_count": 35,
   "metadata": {},
   "outputs": [
    {
     "data": {
      "text/plain": [
       "Counterfeit_Weight           float64\n",
       "Active_Since                   int64\n",
       "Medicine_MRP                 float64\n",
       "SidEffect_Level                int32\n",
       "Availability_rating          float64\n",
       "Counterfeit_Sales            float64\n",
       "data                          object\n",
       "MdType_Analgesics              uint8\n",
       "MdType_Antacids                uint8\n",
       "MdType_Antibiotics             uint8\n",
       "MdType_Antifungal              uint8\n",
       "MdType_Antimalarial            uint8\n",
       "MdType_Antipyretics            uint8\n",
       "MdType_Antiseptics             uint8\n",
       "MdType_Cardiac                 uint8\n",
       "MdType_Hreplacements           uint8\n",
       "MdType_Mstablizers             uint8\n",
       "MdType_MuscleRelaxants         uint8\n",
       "MdType_OralContraceptives      uint8\n",
       "MdType_Statins                 uint8\n",
       "MdType_Stimulants              uint8\n",
       "MdType_Tranquilizers           uint8\n",
       "ArType_Dwntwn                  int32\n",
       "ArType_MidtwnResid             int32\n",
       "ArType_CityLimits              int32\n",
       "AreaCity_Tier3                 int32\n",
       "AreaCity_Tier2                 int32\n",
       "AreaDistLevel_Medium           uint8\n",
       "AreaDistLevel_Small            uint8\n",
       "AreaDistLevel_Unknown          uint8\n",
       "dtype: object"
      ]
     },
     "execution_count": 35,
     "metadata": {},
     "output_type": "execute_result"
    }
   ],
   "source": [
    "bd.dtypes"
   ]
  },
  {
   "cell_type": "code",
   "execution_count": 36,
   "metadata": {},
   "outputs": [
    {
     "name": "stderr",
     "output_type": "stream",
     "text": [
      "C:\\Users\\User\\Anaconda3\\lib\\site-packages\\pandas\\core\\frame.py:3940: SettingWithCopyWarning: \n",
      "A value is trying to be set on a copy of a slice from a DataFrame\n",
      "\n",
      "See the caveats in the documentation: http://pandas.pydata.org/pandas-docs/stable/indexing.html#indexing-view-versus-copy\n",
      "  errors=errors)\n"
     ]
    }
   ],
   "source": [
    "#we have done with data preprocessing and now we will again split our train and test data \n",
    "bd_train=bd[bd['data']=='train']\n",
    "del bd_train['data']\n",
    "bd_test=bd[bd['data']==\"test\"]\n",
    "bd_test.drop(['data','Counterfeit_Sales'],1,inplace=True)"
   ]
  },
  {
   "cell_type": "code",
   "execution_count": 37,
   "metadata": {},
   "outputs": [],
   "source": [
    "del bd"
   ]
  },
  {
   "cell_type": "code",
   "execution_count": 38,
   "metadata": {},
   "outputs": [],
   "source": [
    "from sklearn.model_selection import train_test_split\n",
    "from sklearn.linear_model import LinearRegression,Lasso,Ridge"
   ]
  },
  {
   "cell_type": "code",
   "execution_count": 39,
   "metadata": {},
   "outputs": [],
   "source": [
    "#Splitting train data into 80% train  and 20% test part#\n",
    "bd_train1,bd_train2=train_test_split(bd_train,test_size=0.2,random_state=2)"
   ]
  },
  {
   "cell_type": "code",
   "execution_count": null,
   "metadata": {},
   "outputs": [],
   "source": [
    "#first we build an linear reg model on training data\n",
    "#x_train1,y_train1=bd_train1....80% splitted data \n",
    "#x_test,y_test=bd_train2...20% splitted data \n",
    "#2)then we first fit the model on x_train1,y_train1\n",
    "#3)then we do prediction on x_test\n",
    "#4)then we find MAE on y_test and predicted data"
   ]
  },
  {
   "cell_type": "code",
   "execution_count": 40,
   "metadata": {},
   "outputs": [],
   "source": [
    "#We separate target and predictors from 80% train data\n",
    "x_train1=bd_train1.drop(['Counterfeit_Sales'],axis=1)\n",
    "y_train1=bd_train1['Counterfeit_Sales']"
   ]
  },
  {
   "cell_type": "code",
   "execution_count": 41,
   "metadata": {},
   "outputs": [],
   "source": [
    "#Linear regression model\n",
    "lm=LinearRegression()"
   ]
  },
  {
   "cell_type": "code",
   "execution_count": 42,
   "metadata": {},
   "outputs": [
    {
     "data": {
      "text/plain": [
       "LinearRegression(copy_X=True, fit_intercept=True, n_jobs=None, normalize=False)"
      ]
     },
     "execution_count": 42,
     "metadata": {},
     "output_type": "execute_result"
    }
   ],
   "source": [
    "lm.fit(x_train1,y_train1)"
   ]
  },
  {
   "cell_type": "code",
   "execution_count": 43,
   "metadata": {},
   "outputs": [],
   "source": [
    "#We separate target and predictors from 20% test data\n",
    "x_test=bd_train2.drop(['Counterfeit_Sales'],1)\n",
    "y_test=bd_train2['Counterfeit_Sales']"
   ]
  },
  {
   "cell_type": "code",
   "execution_count": 44,
   "metadata": {},
   "outputs": [],
   "source": [
    "#We'll make prediction on 20% test data\n",
    "predicted_train=lm.predict(x_test)"
   ]
  },
  {
   "cell_type": "code",
   "execution_count": 45,
   "metadata": {},
   "outputs": [
    {
     "data": {
      "text/plain": [
       "array([1150.61366486,  965.0132471 , 3813.28634115, ..., 1449.29825819,\n",
       "       3996.76026413, 1616.49747281])"
      ]
     },
     "execution_count": 45,
     "metadata": {},
     "output_type": "execute_result"
    }
   ],
   "source": [
    "predicted_train"
   ]
  },
  {
   "cell_type": "code",
   "execution_count": 46,
   "metadata": {},
   "outputs": [],
   "source": [
    "from sklearn.metrics import mean_absolute_error"
   ]
  },
  {
   "cell_type": "code",
   "execution_count": 47,
   "metadata": {},
   "outputs": [
    {
     "data": {
      "text/plain": [
       "0.49662519882933975"
      ]
     },
     "execution_count": 47,
     "metadata": {},
     "output_type": "execute_result"
    }
   ],
   "source": [
    "#Mean absolute error on y_actual with y_predicted \n",
    "MAE=mean_absolute_error(y_test,predicted_train)\n",
    "\n",
    "Score = 1-(MAE/1660)\n",
    "Score\n",
    "\n"
   ]
  },
  {
   "cell_type": "code",
   "execution_count": 48,
   "metadata": {},
   "outputs": [
    {
     "data": {
      "text/plain": [
       "0.17594325389451926"
      ]
     },
     "execution_count": 48,
     "metadata": {},
     "output_type": "execute_result"
    }
   ],
   "source": [
    "from sklearn.metrics import r2_score\n",
    "r2_score(predicted_train,y_test)"
   ]
  },
  {
   "cell_type": "code",
   "execution_count": 49,
   "metadata": {},
   "outputs": [
    {
     "data": {
      "text/plain": [
       "[('Counterfeit_Weight', -5.022129198898146),\n",
       " ('Active_Since', 94.43547049496352),\n",
       " ('Medicine_MRP', 15.435677150730136),\n",
       " ('SidEffect_Level', 0.5453903731820191),\n",
       " ('Availability_rating', -416.0242459555075),\n",
       " ('MdType_Analgesics', -395.88018764039225),\n",
       " ('MdType_Antacids', -388.1602073929538),\n",
       " ('MdType_Antibiotics', -313.8123695108383),\n",
       " ('MdType_Antifungal', -385.5788530211425),\n",
       " ('MdType_Antimalarial', -380.0363451122564),\n",
       " ('MdType_Antipyretics', -437.8128211145498),\n",
       " ('MdType_Antiseptics', -408.4651433023285),\n",
       " ('MdType_Cardiac', -298.33950811320875),\n",
       " ('MdType_Hreplacements', -413.1079111711758),\n",
       " ('MdType_Mstablizers', -390.61693040914804),\n",
       " ('MdType_MuscleRelaxants', -271.80415571713183),\n",
       " ('MdType_OralContraceptives', -382.16907486407996),\n",
       " ('MdType_Statins', -324.7991752174354),\n",
       " ('MdType_Stimulants', -351.20345941783444),\n",
       " ('MdType_Tranquilizers', -457.8296389050098),\n",
       " ('ArType_Dwntwn', 691.2544263897204),\n",
       " ('ArType_MidtwnResid', -5.4569682106375694e-12),\n",
       " ('ArType_CityLimits', 4087.583177754027),\n",
       " ('AreaCity_Tier3', -793.2757857570464),\n",
       " ('AreaCity_Tier2', -374.73888833213556),\n",
       " ('AreaDistLevel_Medium', -1771.284898294706),\n",
       " ('AreaDistLevel_Small', -1812.083740176288),\n",
       " ('AreaDistLevel_Unknown', -2110.249262316198)]"
      ]
     },
     "execution_count": 49,
     "metadata": {},
     "output_type": "execute_result"
    }
   ],
   "source": [
    "list(zip(x_train1.columns,lm.coef_))\n"
   ]
  },
  {
   "cell_type": "code",
   "execution_count": null,
   "metadata": {},
   "outputs": [],
   "source": [
    "#we got 0.49 score on training data,Now we'll find the score on whole training data\n",
    "#x,train,y_train=bd_train\n",
    "#then we will fit the model on x_train,y_train\n",
    "#then we do prediiction on bd_test\n"
   ]
  },
  {
   "cell_type": "code",
   "execution_count": 50,
   "metadata": {},
   "outputs": [],
   "source": [
    "#Separate target and predictors from whole train data\n",
    "x_train=bd_train.drop(['Counterfeit_Sales'],axis=1)\n",
    "y_train=bd_train['Counterfeit_Sales']"
   ]
  },
  {
   "cell_type": "code",
   "execution_count": 51,
   "metadata": {},
   "outputs": [
    {
     "data": {
      "text/plain": [
       "LinearRegression(copy_X=True, fit_intercept=True, n_jobs=None, normalize=False)"
      ]
     },
     "execution_count": 51,
     "metadata": {},
     "output_type": "execute_result"
    }
   ],
   "source": [
    "lm.fit(x_train,y_train)"
   ]
  },
  {
   "cell_type": "code",
   "execution_count": 52,
   "metadata": {},
   "outputs": [],
   "source": [
    "#we make the prediction on whole test data\n",
    "test_prediction=lm.predict(bd_test)"
   ]
  },
  {
   "cell_type": "code",
   "execution_count": 53,
   "metadata": {},
   "outputs": [
    {
     "data": {
      "text/plain": [
       "array([2796.30969141, 3713.20582252, 1219.90113144, ..., 2991.32134759,\n",
       "       3803.86321784, 3554.61136439])"
      ]
     },
     "execution_count": 53,
     "metadata": {},
     "output_type": "execute_result"
    }
   ],
   "source": [
    "test_prediction"
   ]
  },
  {
   "cell_type": "code",
   "execution_count": null,
   "metadata": {},
   "outputs": [],
   "source": []
  },
  {
   "cell_type": "code",
   "execution_count": null,
   "metadata": {},
   "outputs": [],
   "source": []
  },
  {
   "cell_type": "markdown",
   "metadata": {},
   "source": [
    "# Random Forest"
   ]
  },
  {
   "cell_type": "code",
   "execution_count": 54,
   "metadata": {},
   "outputs": [],
   "source": [
    "\n",
    "from sklearn.ensemble import RandomForestRegressor\n",
    "#RandomForestRegressor is used for regression problem"
   ]
  },
  {
   "cell_type": "code",
   "execution_count": 55,
   "metadata": {},
   "outputs": [],
   "source": [
    "from sklearn.model_selection import RandomizedSearchCV"
   ]
  },
  {
   "cell_type": "code",
   "execution_count": 56,
   "metadata": {},
   "outputs": [],
   "source": [
    "RFModel = RandomForestRegressor()"
   ]
  },
  {
   "cell_type": "code",
   "execution_count": 57,
   "metadata": {},
   "outputs": [
    {
     "data": {
      "text/plain": [
       "RandomForestRegressor(bootstrap=True, criterion='mse', max_depth=None,\n",
       "                      max_features='auto', max_leaf_nodes=None,\n",
       "                      min_impurity_decrease=0.0, min_impurity_split=None,\n",
       "                      min_samples_leaf=1, min_samples_split=2,\n",
       "                      min_weight_fraction_leaf=0.0, n_estimators='warn',\n",
       "                      n_jobs=None, oob_score=False, random_state=None,\n",
       "                      verbose=0, warm_start=False)"
      ]
     },
     "execution_count": 57,
     "metadata": {},
     "output_type": "execute_result"
    }
   ],
   "source": [
    "RFModel"
   ]
  },
  {
   "cell_type": "code",
   "execution_count": 58,
   "metadata": {},
   "outputs": [
    {
     "data": {
      "text/plain": [
       "(6818, 29)"
      ]
     },
     "execution_count": 58,
     "metadata": {},
     "output_type": "execute_result"
    }
   ],
   "source": [
    "bd_train.shape"
   ]
  },
  {
   "cell_type": "code",
   "execution_count": 59,
   "metadata": {},
   "outputs": [],
   "source": [
    "param_dist = {\"n_estimators\":[100,200,300,500,700,1000],#No of trees in an forest\n",
    "              'max_features':[5,10,15,20,25],\n",
    "              'max_depth':[None,5,10,15,20,30,50,70],\n",
    "               'min_samples_leaf':[1,2,5,10,15,20], \n",
    "               'min_samples_split':[2,5,10,15,20],\n",
    "                'bootstrap':[True,False]\n",
    "                }\n"
   ]
  },
  {
   "cell_type": "code",
   "execution_count": null,
   "metadata": {},
   "outputs": [],
   "source": []
  },
  {
   "cell_type": "code",
   "execution_count": null,
   "metadata": {},
   "outputs": [],
   "source": [
    "n_iter_search = 10\n",
    "\n",
    "random_search = RandomizedSearchCV(RFModel, param_distributions=param_dist,\n",
    "                                   n_iter=n_iter_search,scoring='neg_mean_absolute_error',cv=10)\n",
    "random_search.fit(x_train1, y_train1)"
   ]
  },
  {
   "cell_type": "code",
   "execution_count": null,
   "metadata": {},
   "outputs": [],
   "source": [
    "rf=random_search.best_estimator_"
   ]
  },
  {
   "cell_type": "code",
   "execution_count": null,
   "metadata": {},
   "outputs": [],
   "source": [
    "rf.fit(x_train1,y_train1)"
   ]
  },
  {
   "cell_type": "code",
   "execution_count": null,
   "metadata": {},
   "outputs": [],
   "source": [
    "train_predicted=rf.predict(x_test)"
   ]
  },
  {
   "cell_type": "code",
   "execution_count": null,
   "metadata": {},
   "outputs": [],
   "source": [
    "MAE1=mean_absolute_error(y_test,train_predicted)"
   ]
  },
  {
   "cell_type": "code",
   "execution_count": null,
   "metadata": {},
   "outputs": [],
   "source": [
    "Score = 1-(MAE1/1660)\n",
    "Score\n",
    "\n"
   ]
  },
  {
   "cell_type": "code",
   "execution_count": null,
   "metadata": {},
   "outputs": [],
   "source": [
    "rf.fit(x_train,y_train)"
   ]
  },
  {
   "cell_type": "code",
   "execution_count": null,
   "metadata": {},
   "outputs": [],
   "source": [
    "test_predict=rf.predict(bd_test)"
   ]
  },
  {
   "cell_type": "code",
   "execution_count": null,
   "metadata": {},
   "outputs": [],
   "source": [
    "test_predict.shape"
   ]
  },
  {
   "cell_type": "code",
   "execution_count": null,
   "metadata": {},
   "outputs": [],
   "source": [
    "pd.DataFrame(test_predict).to_csv(\"mysubmission.csv\",index=False)"
   ]
  },
  {
   "cell_type": "code",
   "execution_count": null,
   "metadata": {},
   "outputs": [],
   "source": []
  }
 ],
 "metadata": {
  "kernelspec": {
   "display_name": "Python 3",
   "language": "python",
   "name": "python3"
  },
  "language_info": {
   "codemirror_mode": {
    "name": "ipython",
    "version": 3
   },
   "file_extension": ".py",
   "mimetype": "text/x-python",
   "name": "python",
   "nbconvert_exporter": "python",
   "pygments_lexer": "ipython3",
   "version": "3.7.3"
  }
 },
 "nbformat": 4,
 "nbformat_minor": 2
}
